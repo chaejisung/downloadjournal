{
 "cells": [
  {
   "cell_type": "code",
   "execution_count": 1,
   "id": "5e274aea",
   "metadata": {
    "collapsed": true
   },
   "outputs": [
    {
     "name": "stdout",
     "output_type": "stream",
     "text": [
      "Requirement already satisfied: pd in c:\\users\\82102\\anaconda3\\lib\\site-packages (0.0.4)\n"
     ]
    },
    {
     "name": "stderr",
     "output_type": "stream",
     "text": [
      "WARNING: You are using pip version 22.0.4; however, version 22.1.2 is available.\n",
      "You should consider upgrading via the 'C:\\Users\\82102\\Anaconda3\\python.exe -m pip install --upgrade pip' command.\n"
     ]
    },
    {
     "name": "stdout",
     "output_type": "stream",
     "text": [
      "Requirement already satisfied: selenium in c:\\users\\82102\\anaconda3\\lib\\site-packages (4.1.0)\n",
      "Requirement already satisfied: trio-websocket~=0.9 in c:\\users\\82102\\anaconda3\\lib\\site-packages (from selenium) (0.9.2)\n",
      "Requirement already satisfied: urllib3[secure]~=1.26 in c:\\users\\82102\\anaconda3\\lib\\site-packages (from selenium) (1.26.7)\n",
      "Requirement already satisfied: trio~=0.17 in c:\\users\\82102\\anaconda3\\lib\\site-packages (from selenium) (0.19.0)\n",
      "Requirement already satisfied: sortedcontainers in c:\\users\\82102\\anaconda3\\lib\\site-packages (from trio~=0.17->selenium) (2.4.0)\n",
      "Requirement already satisfied: sniffio in c:\\users\\82102\\anaconda3\\lib\\site-packages (from trio~=0.17->selenium) (1.2.0)\n",
      "Requirement already satisfied: idna in c:\\users\\82102\\anaconda3\\lib\\site-packages (from trio~=0.17->selenium) (3.3)\n",
      "Requirement already satisfied: attrs>=19.2.0 in c:\\users\\82102\\anaconda3\\lib\\site-packages (from trio~=0.17->selenium) (21.2.0)\n",
      "Requirement already satisfied: cffi>=1.14 in c:\\users\\82102\\anaconda3\\lib\\site-packages (from trio~=0.17->selenium) (1.15.0)\n",
      "Requirement already satisfied: outcome in c:\\users\\82102\\anaconda3\\lib\\site-packages (from trio~=0.17->selenium) (1.1.0)\n",
      "Requirement already satisfied: async-generator>=1.9 in c:\\users\\82102\\anaconda3\\lib\\site-packages (from trio~=0.17->selenium) (1.10)\n",
      "Requirement already satisfied: wsproto>=0.14 in c:\\users\\82102\\anaconda3\\lib\\site-packages (from trio-websocket~=0.9->selenium) (1.0.0)\n",
      "Requirement already satisfied: pyOpenSSL>=0.14 in c:\\users\\82102\\anaconda3\\lib\\site-packages (from urllib3[secure]~=1.26->selenium) (21.0.0)\n",
      "Requirement already satisfied: cryptography>=1.3.4 in c:\\users\\82102\\anaconda3\\lib\\site-packages (from urllib3[secure]~=1.26->selenium) (3.4.8)\n",
      "Requirement already satisfied: certifi in c:\\users\\82102\\anaconda3\\lib\\site-packages (from urllib3[secure]~=1.26->selenium) (2021.10.8)\n",
      "Requirement already satisfied: pycparser in c:\\users\\82102\\anaconda3\\lib\\site-packages (from cffi>=1.14->trio~=0.17->selenium) (2.21)\n",
      "Requirement already satisfied: six>=1.5.2 in c:\\users\\82102\\anaconda3\\lib\\site-packages (from pyOpenSSL>=0.14->urllib3[secure]~=1.26->selenium) (1.16.0)\n",
      "Requirement already satisfied: h11<1,>=0.9.0 in c:\\users\\82102\\anaconda3\\lib\\site-packages (from wsproto>=0.14->trio-websocket~=0.9->selenium) (0.12.0)\n"
     ]
    },
    {
     "name": "stderr",
     "output_type": "stream",
     "text": [
      "WARNING: You are using pip version 22.0.4; however, version 22.1.2 is available.\n",
      "You should consider upgrading via the 'C:\\Users\\82102\\Anaconda3\\python.exe -m pip install --upgrade pip' command.\n"
     ]
    },
    {
     "name": "stdout",
     "output_type": "stream",
     "text": [
      "Requirement already satisfied: requests in c:\\users\\82102\\anaconda3\\lib\\site-packages (2.26.0)\n",
      "Requirement already satisfied: certifi>=2017.4.17 in c:\\users\\82102\\anaconda3\\lib\\site-packages (from requests) (2021.10.8)\n",
      "Requirement already satisfied: charset-normalizer~=2.0.0 in c:\\users\\82102\\anaconda3\\lib\\site-packages (from requests) (2.0.4)\n",
      "Requirement already satisfied: urllib3<1.27,>=1.21.1 in c:\\users\\82102\\anaconda3\\lib\\site-packages (from requests) (1.26.7)\n",
      "Requirement already satisfied: idna<4,>=2.5 in c:\\users\\82102\\anaconda3\\lib\\site-packages (from requests) (3.3)\n"
     ]
    },
    {
     "name": "stderr",
     "output_type": "stream",
     "text": [
      "WARNING: You are using pip version 22.0.4; however, version 22.1.2 is available.\n",
      "You should consider upgrading via the 'C:\\Users\\82102\\Anaconda3\\python.exe -m pip install --upgrade pip' command.\n"
     ]
    }
   ],
   "source": [
    "# 초기 설치해야하는 라이브러리\n",
    "# 초기 1회만 설치하면 됨\n",
    "\n",
    "!pip install pd\n",
    "!pip install selenium\n",
    "!pip install requests"
   ]
  },
  {
   "cell_type": "code",
   "execution_count": 90,
   "id": "d7113048",
   "metadata": {
    "scrolled": true
   },
   "outputs": [
    {
     "name": "stdout",
     "output_type": "stream",
     "text": [
      "Collecting multiprocessing\n",
      "  Downloading multiprocessing-2.6.2.1.tar.gz (108 kB)\n",
      "     -------------------------------------- 108.0/108.0 KB 3.2 MB/s eta 0:00:00\n",
      "  Preparing metadata (setup.py): started\n",
      "  Preparing metadata (setup.py): finished with status 'error'\n"
     ]
    },
    {
     "name": "stderr",
     "output_type": "stream",
     "text": [
      "  error: subprocess-exited-with-error\n",
      "  \n",
      "  python setup.py egg_info did not run successfully.\n",
      "  exit code: 1\n",
      "  \n",
      "  [7 lines of output]\n",
      "  Traceback (most recent call last):\n",
      "    File \"<string>\", line 2, in <module>\n",
      "    File \"<pip-setuptools-caller>\", line 34, in <module>\n",
      "    File \"C:\\Users\\82102\\AppData\\Local\\Temp\\pip-install-9qt_y_u6\\multiprocessing_b6825f3ee8f74d1aa1070970bc941500\\setup.py\", line 94\n",
      "      print 'Macros:'\n",
      "            ^\n",
      "  SyntaxError: Missing parentheses in call to 'print'. Did you mean print('Macros:')?\n",
      "  [end of output]\n",
      "  \n",
      "  note: This error originates from a subprocess, and is likely not a problem with pip.\n",
      "error: metadata-generation-failed\n",
      "\n",
      "Encountered error while generating package metadata.\n",
      "\n",
      "See above for output.\n",
      "\n",
      "note: This is an issue with the package mentioned above, not pip.\n",
      "hint: See above for details.\n",
      "WARNING: You are using pip version 22.0.4; however, version 22.1.2 is available.\n",
      "You should consider upgrading via the 'C:\\Users\\82102\\Anaconda3\\python.exe -m pip install --upgrade pip' command.\n"
     ]
    }
   ],
   "source": [
    "!pip install multiprocessing"
   ]
  },
  {
   "cell_type": "code",
   "execution_count": 83,
   "id": "6798eb29",
   "metadata": {},
   "outputs": [],
   "source": [
    "import pandas as pd\n",
    "from selenium import webdriver\n",
    "from selenium.webdriver.common.keys import Keys\n",
    "from requests import get\n",
    "import requests\n",
    "from urllib import parse\n",
    "from urllib import request\n",
    "import os\n",
    "import asyncio\n",
    "from bs4 import BeautifulSoup as bs \n",
    "from multiprocessing import Process, Queue"
   ]
  },
  {
   "cell_type": "code",
   "execution_count": 6,
   "id": "daafb46c",
   "metadata": {},
   "outputs": [],
   "source": [
    "# 순차\n",
    "def GetData(filename, key): \n",
    "    # 엑셀에서 데이터 받아오는 함수\n",
    "    # filename에 엑셀파일 경로, key에 column 의 이름을 기입하면 해당 열을 반환 \n",
    "    # filename의 \\는 반드시 \\\\ 또는 /으로 바꿔써야한다.\n",
    "    # key는 소문자로 입력해도 상관없음\n",
    "    \n",
    "    key = key.upper()\n",
    "    data = pd.read_excel(filename , engine = \"openpyxl\")\n",
    "    \n",
    "    if(key in data.columns):\n",
    "        return data[key]\n",
    "    else:\n",
    "        print(\"Key is not defined\")\n",
    "        \n",
    "##################################################################################\n",
    "\n",
    "def DownloadPdf_req(pdf_name, pmid):\n",
    "    #requests 라이브러리 사용\n",
    "    # pdf_name 에 입력한대로 저장된다\n",
    "    # pmid 에 PMID값 넣어서 다운로드\n",
    "    \n",
    "    #headers = {'user-agent': 'Mozilla/5.0 (Windows NT 10.0; Win64; x64) AppleWebKit/537.36 (KHTML, like Gecko) Chrome/79.0.3945.130 Safari/537.36'}\n",
    "    a = requests.post('https://sci-hub.se/', data = {'request': pmid})\n",
    "    r = bs(a.text, 'html.parser')\n",
    "    \n",
    "    try: # 논문 없을때\n",
    "        try:  # 디도스 가드\n",
    "            c = r.select_one('div > button').attrs['onclick'] \n",
    "            c = c[15:-1]\n",
    "            if('sci-hub.se' in c):\n",
    "                c = 'https:' + c\n",
    "            else:\n",
    "                c = 'https://sci-hub.se' + c\n",
    "                opener = request.build_opener()\n",
    "                opener.addheaders = [('User-agent', 'Mozilla/5.0')]\n",
    "                request.install_opener(opener)\n",
    "        except:\n",
    "            data_frame = [pdf_name, pmid]\n",
    "            print('논문이 없습니다.')\n",
    "            print()\n",
    "            return data_frame\n",
    "        \n",
    "        current_path = str(os.getcwd()) + \"/다운로드된 논문/\" + pdf_name\n",
    "        try:\n",
    "            request.urlretrieve(c, current_path)  # 다운로드\n",
    "        except:\n",
    "            r = requests.get(c)\n",
    "            with open(current_path, 'wb') as outfile:\n",
    "                outfile.write(r.content)\n",
    "        print(pdf_name + ' 다운로드 완료')\n",
    "        print()\n",
    "    except:\n",
    "        print(pdf_name+ ' 다운로드 실패')\n",
    "        data_frame = [pdf_name, pmid]\n",
    "        print()\n",
    "        return data_frame\n",
    "        \n",
    "        \n",
    "##################################################################################\n",
    "\n",
    "def DownloadPdf_sel(pdf_name, pmid):\n",
    "    # selenium 라이브러리 사용\n",
    "    # pdf_name 에 입력한대로 저장된다\n",
    "    # pmid 에 PMID값 넣어서 다운로드\n",
    "    \n",
    "    browser = webdriver.Chrome()\n",
    "    browser.get(\"https://sci-hub.se/\")\n",
    "\n",
    "    search_area = browser.find_element_by_id(\"request\") # 검색창 \n",
    "    search_area.send_keys(pmid)\n",
    "    search_area.send_keys(Keys.ENTER)\n",
    "    \n",
    "    try:\n",
    "        pdf_url = browser.find_element_by_id(\"pdf\").get_attribute(\"src\") # pdf url\n",
    "        browser.get(pdf_url)\n",
    "\n",
    "        current_path = str(os.getcwd()) + \"/다운로드된 논문/\" + pdf_name\n",
    "\n",
    "\n",
    "        with open(current_path, \"wb\") as file:\n",
    "            response = get(pdf_url)\n",
    "            file.write(response.content)\n",
    "    except:\n",
    "        print(\"에러 발생\" + \"_\" + pdf_name)\n",
    "    \n",
    "##################################################################################\n",
    "\n",
    "def DownloadJournal(filename, type_):\n",
    "    df_pmid = GetData(filename, 'pmid')\n",
    "    df_title = GetData(filename, 'title')\n",
    "    length = len(df_pmid)\n",
    "    data_ = []\n",
    "    \n",
    "    try:\n",
    "        os.mkdir(\"다운로드된 논문\")\n",
    "    except:\n",
    "        print('')\n",
    "    \n",
    "    if(type_ == 'sel'):\n",
    "        for i in range(0, length):\n",
    "            title = str(i+1) + \"_\" + df_title[i][0:30] + \".pdf\"\n",
    "            pmid = int(df_pmid[i])\n",
    "\n",
    "            DownloadPdf_sel(title, pmid)\n",
    "    \n",
    "    elif(type_ == 'req'):     \n",
    "        for i in range(0, length):\n",
    "            title = str(i+1) + \"_\" + df_title[i][0:30] + \".pdf\"\n",
    "            pmid = int(df_pmid[i])\n",
    "\n",
    "            data_frame = DownloadPdf_req(title, pmid)\n",
    "            if(data_frame != None):\n",
    "                data_.append(data_frame)\n",
    "                \n",
    "        df_ = pd.DataFrame(data_,columns=['num+title', 'pmid'])\n",
    "        print(df_)\n",
    "        df_.to_csv(\"./다운로드된 논문/undownloaded_journal.csv\",mode='w')"
   ]
  },
  {
   "cell_type": "code",
   "execution_count": 7,
   "id": "ecad428a",
   "metadata": {
    "scrolled": false
   },
   "outputs": [
    {
     "name": "stdout",
     "output_type": "stream",
     "text": [
      "\n",
      "1_Bovine dairy complex lipids im.pdf 다운로드 완료\n",
      "\n",
      "2_The kiwi fruit peptide kissper.pdf 다운로드 완료\n",
      "\n",
      "3_Effect of garlic sulfur compou.pdf 다운로드 완료\n",
      "\n",
      "논문이 없습니다.\n",
      "\n",
      "5_Effects of Puerariae radix ext.pdf 다운로드 완료\n",
      "\n",
      "6_A Novel Non-Digestible, Carrot.pdf 다운로드 완료\n",
      "\n",
      "7_The impact of tomato fruits co.pdf 다운로드 완료\n",
      "\n",
      "8_Plant phenolics decrease intes.pdf 다운로드 완료\n",
      "\n",
      "                              num+title      pmid\n",
      "0  4_Effects of dietary asafoetida .pdf  32681211\n"
     ]
    }
   ],
   "source": [
    "## filename에 경로 넣고 경로사이 구분은 \\\\로, req로 하는게 빠르다!\n",
    "## 그냥 filename만 바꾸기!\n",
    "\n",
    "filename ='C:\\\\Users\\\\82102\\\\아나콘다\\\\논문 다운로드\\엑셀.xlsx'\n",
    "\n",
    "DownloadJournal(filename, 'req')"
   ]
  },
  {
   "cell_type": "code",
   "execution_count": null,
   "id": "d2764843",
   "metadata": {},
   "outputs": [],
   "source": []
  },
  {
   "cell_type": "code",
   "execution_count": null,
   "id": "a8e627b4",
   "metadata": {},
   "outputs": [],
   "source": []
  },
  {
   "cell_type": "code",
   "execution_count": null,
   "id": "d3423161",
   "metadata": {},
   "outputs": [],
   "source": []
  },
  {
   "cell_type": "code",
   "execution_count": 86,
   "id": "17199a1d",
   "metadata": {},
   "outputs": [],
   "source": [
    "# 비동기\n",
    "def GetData_(filename, key): \n",
    "    # 엑셀에서 데이터 받아오는 함수\n",
    "    # filename에 엑셀파일 경로, key에 column 의 이름을 기입하면 해당 열을 반환 \n",
    "    # filename의 \\는 반드시 \\\\ 또는 /으로 바꿔써야한다.\n",
    "    # key는 소문자로 입력해도 상관없음\n",
    "    \n",
    "    key = key.upper()\n",
    "    data = pd.read_excel(filename , engine = \"openpyxl\")\n",
    "    \n",
    "    if(key in data.columns):\n",
    "        return data[key]\n",
    "    else:\n",
    "        print(\"Key is not defined\")\n",
    "        \n",
    "##################################################################################\n",
    "\n",
    "def DownloadPdf_req_(pdf_name, pmid):\n",
    "    #requests 라이브러리 사용\n",
    "    # pdf_name 에 입력한대로 저장된다\n",
    "    # pmid 에 PMID값 넣어서 다운로드\n",
    "    \n",
    "    #headers = {'user-agent': 'Mozilla/5.0 (Windows NT 10.0; Win64; x64) AppleWebKit/537.36 (KHTML, like Gecko) Chrome/79.0.3945.130 Safari/537.36'}\n",
    "    a = requests.post('https://sci-hub.se/', data = {'request': pmid})\n",
    "    r = bs(a.text, 'html.parser')\n",
    "    \n",
    "    try: # 논문 없을때\n",
    "        try:  # 디도스 가드\n",
    "            c = r.select_one('div > button').attrs['onclick'] \n",
    "            c = c[15:-1]\n",
    "            if('sci-hub.se' in c):\n",
    "                c = 'https:' + c\n",
    "            else:\n",
    "                c = 'https://sci-hub.se' + c\n",
    "                opener = request.build_opener()\n",
    "                opener.addheaders = [('User-agent', 'Mozilla/5.0')]\n",
    "                request.install_opener(opener)\n",
    "        except:\n",
    "            data_frame = [pdf_name, pmid]\n",
    "            print('논문이 없습니다.')\n",
    "            print()\n",
    "            return data_frame\n",
    "        \n",
    "        current_path = str(os.getcwd()) + \"/다운로드된 논문/\" + pdf_name\n",
    "        try:\n",
    "            request.urlretrieve(c, current_path)  # 다운로드\n",
    "        except:\n",
    "            r = requests.get(c)\n",
    "            with open(current_path, 'wb') as outfile:\n",
    "                outfile.write(r.content)\n",
    "        print(pdf_name + ' 다운로드 완료')\n",
    "        print()\n",
    "    except:\n",
    "        print(pdf_name+ ' 다운로드 실패')\n",
    "        data_frame = [pdf_name, pmid]\n",
    "        print()\n",
    "        return data_frame\n",
    "        \n",
    "        \n",
    "##################################################################################\n",
    "\n",
    "def DPMultiProcessing(start, end, df_title, df_pmid, data_):\n",
    "    for i in range(start, end):\n",
    "        title = str(i+1) + \"_\" + df_title[i][0:30] + \".pdf\" # 이름\n",
    "        pmid = int(df_pmid[i]) # pmid\n",
    "\n",
    "        data_frame = DownloadPdf_req_(title, pmid)\n",
    "        if(data_frame != None):\n",
    "            data_.append(data_frame)\n",
    "    print(start, 바보) ##########\n",
    "\n",
    "##################################################################################\n",
    "\n",
    "def DownloadJournal_mp(filename, processing_): # processing은 반드시 1이상\n",
    "    df_pmid = GetData_(filename, 'pmid')\n",
    "    df_title = GetData_(filename, 'title')\n",
    "    length = len(df_pmid)\n",
    "    data_ = []\n",
    "    \n",
    "    try:\n",
    "        os.mkdir(\"다운로드된 논문\")\n",
    "    except:\n",
    "        print('')\n",
    "    \n",
    "    num_ = []\n",
    "    for ij in range(0, processing_ -1):\n",
    "        num_.append(length//processing_*(ij+1))\n",
    "    num_.append(length)\n",
    "    \n",
    "    st = 0\n",
    "    en = 0\n",
    "    for i in range(0, processing_):\n",
    "        st = en\n",
    "        en = num_[i]\n",
    "        #globals()['p'+str(i)] = Process(target=DPMultiProcessing, args=(st, en, df_title, df_pmid, data_))\n",
    "        globals()['p'+str(i)] = Process(target = mp, args=(str(i)))\n",
    "    for j in range(0, processing_):\n",
    "        globals()['p'+str(j)].start(); globals()['p'+str(j)].join()\n",
    "    \n",
    "    df_ = pd.DataFrame(data_,columns=['num+title', 'pmid'])\n",
    "    print(df_)\n",
    "    df_.to_csv(\"./다운로드된 논문/undownloaded_journal.csv\",mode='w')"
   ]
  },
  {
   "cell_type": "code",
   "execution_count": 88,
   "id": "efeb16f3",
   "metadata": {},
   "outputs": [],
   "source": [
    "###\n",
    "def mp():\n",
    "    print('밥')\n",
    "\n",
    "pp1 = Process(target = mp)\n",
    "pp1.start()\n",
    "pp1.join()"
   ]
  },
  {
   "cell_type": "code",
   "execution_count": 84,
   "id": "aec8ac7d",
   "metadata": {},
   "outputs": [
    {
     "name": "stdout",
     "output_type": "stream",
     "text": [
      "\n",
      "Empty DataFrame\n",
      "Columns: [num+title, pmid]\n",
      "Index: []\n"
     ]
    }
   ],
   "source": [
    "filename ='C:\\\\Users\\\\82102\\\\아나콘다\\\\논문 다운로드\\엑셀 - 복사본.xlsx'\n",
    "\n",
    "DownloadJournal_mp(filename, 4)"
   ]
  },
  {
   "cell_type": "code",
   "execution_count": 16,
   "id": "9645df2d",
   "metadata": {},
   "outputs": [],
   "source": [
    "for ii in range(0,3):\n",
    "    globals()['hi'+str(ii)] = ii+3"
   ]
  },
  {
   "cell_type": "code",
   "execution_count": 17,
   "id": "b8212683",
   "metadata": {},
   "outputs": [
    {
     "name": "stdout",
     "output_type": "stream",
     "text": [
      "3\n",
      "4\n",
      "5\n"
     ]
    }
   ],
   "source": [
    "for jj in range(0,3):\n",
    "    print(globals()['hi'+str(jj)])"
   ]
  }
 ],
 "metadata": {
  "kernelspec": {
   "display_name": "Python 3 (ipykernel)",
   "language": "python",
   "name": "python3"
  },
  "language_info": {
   "codemirror_mode": {
    "name": "ipython",
    "version": 3
   },
   "file_extension": ".py",
   "mimetype": "text/x-python",
   "name": "python",
   "nbconvert_exporter": "python",
   "pygments_lexer": "ipython3",
   "version": "3.9.7"
  }
 },
 "nbformat": 4,
 "nbformat_minor": 5
}
